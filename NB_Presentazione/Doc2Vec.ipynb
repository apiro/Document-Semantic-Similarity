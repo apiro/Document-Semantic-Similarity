{
 "cells": [
  {
   "cell_type": "markdown",
   "metadata": {},
   "source": [
    "## Import packages:"
   ]
  },
  {
   "cell_type": "code",
   "execution_count": 1,
   "metadata": {
    "collapsed": false
   },
   "outputs": [],
   "source": [
    "import pandas as pd\n",
    "import numpy as np\n",
    "from bs4 import BeautifulSoup\n",
    "from nltk.corpus import stopwords\n",
    "import nltk \n",
    "import gensim\n",
    "import re\n",
    "import datetime\n",
    "import collections\n",
    "import random\n",
    "from wordcloud import WordCloud\n",
    "import matplotlib.pyplot as plt\n",
    "\n",
    "%matplotlib inline"
   ]
  },
  {
   "cell_type": "markdown",
   "metadata": {},
   "source": [
    "## Load dataset:"
   ]
  },
  {
   "cell_type": "code",
   "execution_count": 2,
   "metadata": {
    "collapsed": false
   },
   "outputs": [],
   "source": [
    "train = pd.read_csv(\"./Dataset/cleaned_data.csv\", delimiter=\"\\t\")"
   ]
  },
  {
   "cell_type": "code",
   "execution_count": 3,
   "metadata": {
    "collapsed": false
   },
   "outputs": [
    {
     "data": {
      "text/html": [
       "<div>\n",
       "<table border=\"1\" class=\"dataframe\">\n",
       "  <thead>\n",
       "    <tr style=\"text-align: right;\">\n",
       "      <th></th>\n",
       "      <th>Unnamed: 0</th>\n",
       "      <th>body</th>\n",
       "    </tr>\n",
       "  </thead>\n",
       "  <tbody>\n",
       "    <tr>\n",
       "      <th>0</th>\n",
       "      <td>FM20160429032ACC9MUHD</td>\n",
       "      <td>acea essere pronto giocare partita banda ultra...</td>\n",
       "    </tr>\n",
       "    <tr>\n",
       "      <th>1</th>\n",
       "      <td>FM20160501023ACLAzwID</td>\n",
       "      <td>unico certezza momento essere prossimo tappa s...</td>\n",
       "    </tr>\n",
       "    <tr>\n",
       "      <th>2</th>\n",
       "      <td>FM20160503035ACaNSzJD</td>\n",
       "      <td>potere aspettare mese luglio formalizzazione p...</td>\n",
       "    </tr>\n",
       "    <tr>\n",
       "      <th>3</th>\n",
       "      <td>FM20160503035ACDx00JD</td>\n",
       "      <td>fondo chiuso aiutare piccolo medio impresa ita...</td>\n",
       "    </tr>\n",
       "    <tr>\n",
       "      <th>4</th>\n",
       "      <td>FM20160428033ACi2kvGD</td>\n",
       "      <td>volto provocazione sortire effetto sperare ext...</td>\n",
       "    </tr>\n",
       "  </tbody>\n",
       "</table>\n",
       "</div>"
      ],
      "text/plain": [
       "              Unnamed: 0                                               body\n",
       "0  FM20160429032ACC9MUHD  acea essere pronto giocare partita banda ultra...\n",
       "1  FM20160501023ACLAzwID  unico certezza momento essere prossimo tappa s...\n",
       "2  FM20160503035ACaNSzJD  potere aspettare mese luglio formalizzazione p...\n",
       "3  FM20160503035ACDx00JD  fondo chiuso aiutare piccolo medio impresa ita...\n",
       "4  FM20160428033ACi2kvGD  volto provocazione sortire effetto sperare ext..."
      ]
     },
     "execution_count": 3,
     "metadata": {},
     "output_type": "execute_result"
    }
   ],
   "source": [
    "train.head()"
   ]
  },
  {
   "cell_type": "code",
   "execution_count": 4,
   "metadata": {
    "collapsed": false
   },
   "outputs": [
    {
     "data": {
      "text/plain": [
       "(9283, 2)"
      ]
     },
     "execution_count": 4,
     "metadata": {},
     "output_type": "execute_result"
    }
   ],
   "source": [
    "train.shape"
   ]
  },
  {
   "cell_type": "code",
   "execution_count": null,
   "metadata": {
    "collapsed": true
   },
   "outputs": [],
   "source": []
  },
  {
   "cell_type": "code",
   "execution_count": 5,
   "metadata": {
    "collapsed": false
   },
   "outputs": [],
   "source": [
    "def tagDocuments(text):\n",
    "    for i, line in enumerate(text):\n",
    "        if(i%1000 == 0):\n",
    "            print(\"> Iteration: \" + str(i))\n",
    "        yield gensim.models.doc2vec.TaggedDocument(\n",
    "            [w for w in \n",
    "             gensim.utils.simple_preprocess(line)], [i])"
   ]
  },
  {
   "cell_type": "markdown",
   "metadata": {},
   "source": [
    "## Extract train data from dataframe into list:"
   ]
  },
  {
   "cell_type": "code",
   "execution_count": 6,
   "metadata": {
    "collapsed": false,
    "scrolled": true
   },
   "outputs": [
    {
     "name": "stdout",
     "output_type": "stream",
     "text": [
      "> START 2017-05-21 22:33:36.598067\n",
      "> Iteration: 0\n",
      "> Iteration: 1000\n",
      "> Iteration: 2000\n",
      "> Iteration: 3000\n",
      "> Iteration: 4000\n",
      "> Iteration: 5000\n",
      "> Iteration: 6000\n",
      "> Iteration: 7000\n",
      "> Iteration: 8000\n",
      "> Iteration: 9000\n",
      "> END 2017-05-21 22:33:38.696122\n"
     ]
    },
    {
     "data": {
      "text/plain": [
       "9283"
      ]
     },
     "execution_count": 6,
     "metadata": {},
     "output_type": "execute_result"
    }
   ],
   "source": [
    "print(\"> START %s\" % datetime.datetime.now())\n",
    "train_corpus = list(tagDocuments(train['body'].tolist()))\n",
    "print(\"> END %s\" % str(datetime.datetime.now()))\n",
    "\n",
    "len(train_corpus)"
   ]
  },
  {
   "cell_type": "markdown",
   "metadata": {},
   "source": [
    "## Prepare model:"
   ]
  },
  {
   "cell_type": "code",
   "execution_count": 7,
   "metadata": {
    "collapsed": false
   },
   "outputs": [],
   "source": [
    "window = 20\n",
    "size = 20\n",
    "dm_concat = 1\n",
    "alpha = 0.02\n",
    "model = gensim.models.doc2vec.Doc2Vec(size=size, min_count=10, dm_concat= dm_concat, window=window, alpha = alpha,iter=55)"
   ]
  },
  {
   "cell_type": "code",
   "execution_count": 17,
   "metadata": {
    "collapsed": true
   },
   "outputs": [],
   "source": [
    "model_name = \"doc2vec_21_05_2017\"\n",
    "model.save(model_name)"
   ]
  },
  {
   "cell_type": "code",
   "execution_count": 8,
   "metadata": {
    "collapsed": false
   },
   "outputs": [],
   "source": [
    "model.build_vocab(train_corpus)"
   ]
  },
  {
   "cell_type": "markdown",
   "metadata": {},
   "source": [
    "## Train model:"
   ]
  },
  {
   "cell_type": "code",
   "execution_count": 9,
   "metadata": {
    "collapsed": false,
    "scrolled": true
   },
   "outputs": [
    {
     "name": "stdout",
     "output_type": "stream",
     "text": [
      "CPU times: user 23min 39s, sys: 3.1 s, total: 23min 42s\n",
      "Wall time: 8min 7s\n"
     ]
    },
    {
     "data": {
      "text/plain": [
       "57535414"
      ]
     },
     "execution_count": 9,
     "metadata": {},
     "output_type": "execute_result"
    }
   ],
   "source": [
    "%time model.train(train_corpus)"
   ]
  },
  {
   "cell_type": "code",
   "execution_count": 10,
   "metadata": {
    "collapsed": false
   },
   "outputs": [],
   "source": [
    "ranks = [] #per ogni documento l'indice che indica a che livello si trova nella lista dei simili a se stesso)\n",
    "\n",
    "second_ranks = []\n",
    "for doc_id in range(len(train_corpus)):\n",
    "    inferred_vector = model.infer_vector(train_corpus[doc_id].words)\n",
    "    sims = model.docvecs.most_similar([inferred_vector], topn=len(model.docvecs))\n",
    "    rank = [docid for docid, sim in sims].index(doc_id)\n",
    "    ranks.append(rank)\n",
    "    \n",
    "    second_ranks.append(sims[1])"
   ]
  },
  {
   "cell_type": "markdown",
   "metadata": {},
   "source": [
    "## Evaluate model (raw):"
   ]
  },
  {
   "cell_type": "code",
   "execution_count": 11,
   "metadata": {
    "collapsed": false
   },
   "outputs": [],
   "source": [
    "def score(listOfRanks):\n",
    "    correct = 0\n",
    "    for e in listOfRanks:\n",
    "        if(e >= 0 | e <= 2):\n",
    "        #if( e == 0):\n",
    "            correct = correct + 1\n",
    "    return correct/len(listOfRanks)"
   ]
  },
  {
   "cell_type": "code",
   "execution_count": 12,
   "metadata": {
    "collapsed": false
   },
   "outputs": [
    {
     "data": {
      "text/plain": [
       "0.9593881288376602"
      ]
     },
     "execution_count": 12,
     "metadata": {},
     "output_type": "execute_result"
    }
   ],
   "source": [
    "score(ranks)"
   ]
  },
  {
   "cell_type": "markdown",
   "metadata": {},
   "source": [
    "## Model inspection"
   ]
  },
  {
   "cell_type": "code",
   "execution_count": 13,
   "metadata": {
    "collapsed": false
   },
   "outputs": [
    {
     "data": {
      "text/plain": [
       "array([ 0.07834738,  0.09632134,  0.10528717, -0.04028289,  0.06526494,\n",
       "       -0.16741337, -0.08751242, -0.03783806, -0.00122402,  0.34268799,\n",
       "       -0.13431677,  0.10227473,  0.0537323 , -0.13337226, -0.11831887,\n",
       "       -0.15145037,  0.0541449 ,  0.03916775, -0.00842663,  0.06210634], dtype=float32)"
      ]
     },
     "execution_count": 13,
     "metadata": {},
     "output_type": "execute_result"
    }
   ],
   "source": [
    "model.infer_vector(['oggi', 'voglio', 'comprare', 'una', 'azione', 'di', 'mediaset'])"
   ]
  },
  {
   "cell_type": "code",
   "execution_count": 14,
   "metadata": {
    "collapsed": false
   },
   "outputs": [
    {
     "data": {
      "text/plain": [
       "9215"
      ]
     },
     "execution_count": 14,
     "metadata": {},
     "output_type": "execute_result"
    }
   ],
   "source": [
    "model.wv.vocab['gruppo'].count"
   ]
  },
  {
   "cell_type": "markdown",
   "metadata": {},
   "source": [
    "### NOTE:\n",
    "\n",
    "#### ranks:\n",
    "    - num_elements = #num_docs\n",
    "    - per ogni documento ( in ordine) abbiamo l'indice che rappresenta dove trovare se stesso nella lista dei suoi simili\n",
    "    - particolarità: il documento 9282 è il 184 documento più simile a se stesso\n",
    "        \n",
    "#### second_ranks:\n",
    "    - num_elements = #num_docs\n",
    "    - per ogni domcumento ( in ordine) abbiamo il secondo documento più simile"
   ]
  },
  {
   "cell_type": "code",
   "execution_count": 15,
   "metadata": {
    "collapsed": false
   },
   "outputs": [
    {
     "name": "stdout",
     "output_type": "stream",
     "text": [
      "Document (9282): «toscano aeroporto apprendere indiscrezione stampa commissione valutazione impatto ambientale ministero ambiente avere esprimere parere favorevole masterplan aeroporto amerigo vespucci firenze prevedere altro cosa realizzazione cosiddetto pista parallelo nuovo terminal aeroportuale quotare mercato telematico azionario organizzare gestire borsa italiano riservare qualsiasi commento merito fino pubblicazione parere relativo documentazione parte ministero riferire nota»\n",
      "\n",
      "SIMILAR/DISSIMILAR DOCS PER MODEL Doc2Vec(dm/c,d20,n5,w20,mc10,s0.001,t3):\n",
      "\n",
      "MOST (9282, 0.8507392406463623): «toscano aeroporto apprendere indiscrezione stampa commissione valutazione impatto ambientale ministero ambiente avere esprimere parere favorevole masterplan aeroporto amerigo vespucci firenze prevedere altro cosa realizzazione cosiddetto pista parallelo nuovo terminal aeroportuale quotare mercato telematico azionario organizzare gestire borsa italiano riservare qualsiasi commento merito fino pubblicazione parere relativo documentazione parte ministero riferire nota»\n",
      "\n",
      "MEDIAN (1339, -0.0004597902297973633): «prelios chiudere perdita milione euro miglioramento rispetto rosso milione frattempo cda avere dare incarico amministratore delegare sergio iasi verificare concreto fattibilità progetto revisione perimetro gruppo separazione attività investimento servizio resto ormai qualche giorno addetto lavoro circolare indiscrezione spin off investimento milione newco notizia anticipato dalsole ore ieri passaggio definitivo modello puro management company tornare conto prelios avere segnare ricavo gestione milione milione ebit milione milione inoltre considerato entità perdita livello capogruppo capitale sociale ridurre oltre terzo assemblea società chiamare approvare bilancio dovere deliberare provvedimento competenza cioè riduzione capitale secondo prevedere articolo comma due codice civile»\n",
      "\n",
      "LEAST (6991, -0.719639241695404): «primo mese utile netto consolidato triplicare milione euro crescita rispetto nove mese milione ebit consolidato milione crescita ebitda pari circa milione crescita rispetto milione stesso periodo essere alcuni risultato consolidare primo nove mese mondo tv approvare cda gruppo inoltre avere registrare valore produzione pario circa milione nove mese rispetto milione nove mese sensibile miglioramento posizione finananziaria nettare pari circa milione euro rispetto milione dicembre patrimonio netto pari circa milione euro incremento milione rispetto milione euro dicembre dato informare nota gruppo mondo tv emergere significativo aumento effetto nuovo modello business»\n",
      "\n"
     ]
    }
   ],
   "source": [
    "print('Document ({}): «{}»\\n'.format(doc_id, ' '.join(train_corpus[doc_id].words)))\n",
    "print(u'SIMILAR/DISSIMILAR DOCS PER MODEL %s:\\n' % model)\n",
    "for label, index in [('MOST', 0), ('MEDIAN', len(sims)//2), ('LEAST', len(sims) - 1)]:\n",
    "    print(u'%s %s: «%s»\\n' % (label, sims[index], ' '.join(train_corpus[sims[index][0]].words)))"
   ]
  },
  {
   "cell_type": "code",
   "execution_count": 16,
   "metadata": {
    "collapsed": false
   },
   "outputs": [
    {
     "name": "stdout",
     "output_type": "stream",
     "text": [
      "Train Document (4305): «gruppo campari apprestare lanciare opa amichevole grand marnier secondo riportare figaro erede jean baptiste lapostolle louis alexandre marnier controllare maggioranza capitale grand marnier diritto voto avere accettare cedere quota gruppo italiano secondo quotidiano francese transazione valorizzare grand marnier oltre miliardo euro doppio mercato milione campari fondare trattare acquisizione importante storia azienda interpellare indiscrezione stampa avere commentare»\n",
      "\n",
      "Similar Document (4306, 0.8570370078086853): «gruppo campari apprestare lanciare opa amichevole grand marnier secondo riportare figaro erede jean baptiste lapostolle louis alexandre marnier controllare maggioranza capitale grand marnier diritto voto avere accettare cedere quota gruppo italiano secondo quotidiano francese transazione valorizzare grand marnier oltre miliardo euro doppio mercato milione campari fondare trattare acquisizione importante storia azienda interpellare indiscrezione stampa avere commentare»\n",
      "\n"
     ]
    }
   ],
   "source": [
    "# Pick a random document from the test corpus and infer a vector from the model\n",
    "\n",
    "doc_id = random.randint(0, len(train_corpus))\n",
    "\n",
    "# Compare and print the most/median/least similar documents from the train corpus\n",
    "print('Train Document ({}): «{}»\\n'.format(doc_id, ' '.join(train_corpus[doc_id].words)))\n",
    "sim_id = second_ranks[doc_id]\n",
    "print('Similar Document {}: «{}»\\n'.format(sim_id, ' '.join(train_corpus[sim_id[0]].words)))"
   ]
  }
 ],
 "metadata": {
  "anaconda-cloud": {},
  "kernelspec": {
   "display_name": "Python 3",
   "language": "python",
   "name": "python3"
  },
  "language_info": {
   "codemirror_mode": {
    "name": "ipython",
    "version": 3
   },
   "file_extension": ".py",
   "mimetype": "text/x-python",
   "name": "python",
   "nbconvert_exporter": "python",
   "pygments_lexer": "ipython3",
   "version": "3.6.0"
  }
 },
 "nbformat": 4,
 "nbformat_minor": 2
}
