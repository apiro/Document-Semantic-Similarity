{
 "cells": [
  {
   "cell_type": "markdown",
   "metadata": {},
   "source": [
    "# Jago:"
   ]
  },
  {
   "cell_type": "markdown",
   "metadata": {},
   "source": [
    "## Import packages:"
   ]
  },
  {
   "cell_type": "code",
   "execution_count": 1,
   "metadata": {
    "collapsed": false
   },
   "outputs": [],
   "source": [
    "import pandas as pd\n",
    "import numpy as np\n",
    "from bs4 import BeautifulSoup\n",
    "from nltk.corpus import stopwords\n",
    "import nltk \n",
    "import warnings\n",
    "import gensim\n",
    "import re\n",
    "import datetime\n",
    "import collections\n",
    "import random\n",
    "from wordcloud import WordCloud\n",
    "import matplotlib.pyplot as plt\n",
    "from nltk.stem.snowball import ItalianStemmer\n",
    "from gensim.corpora import Dictionary\n",
    "warnings.filterwarnings('ignore')"
   ]
  },
  {
   "cell_type": "markdown",
   "metadata": {},
   "source": [
    "## Load dataset:"
   ]
  },
  {
   "cell_type": "code",
   "execution_count": 2,
   "metadata": {
    "collapsed": false
   },
   "outputs": [],
   "source": [
    "trains24 = pd.read_csv(\"./Dataset/articoliS24O.csv\", delimiter=\"\\t\")\n",
    "trainRadiocor = pd.read_csv(\"./Dataset/articoliRadiocor.csv\", delimiter='\\t')"
   ]
  },
  {
   "cell_type": "code",
   "execution_count": 3,
   "metadata": {
    "collapsed": false
   },
   "outputs": [
    {
     "data": {
      "text/html": [
       "<div>\n",
       "<table border=\"1\" class=\"dataframe\">\n",
       "  <thead>\n",
       "    <tr style=\"text-align: right;\">\n",
       "      <th></th>\n",
       "      <th>identificativo</th>\n",
       "      <th>body</th>\n",
       "    </tr>\n",
       "  </thead>\n",
       "  <tbody>\n",
       "    <tr>\n",
       "      <th>0</th>\n",
       "      <td>FM20160429032ACC9MUHD</td>\n",
       "      <td>Acea è pronta a giocare la sua partita sulla b...</td>\n",
       "    </tr>\n",
       "    <tr>\n",
       "      <th>1</th>\n",
       "      <td>FM20160501023ACLAzwID</td>\n",
       "      <td>L’unica certezza, per il momento, è che la pro...</td>\n",
       "    </tr>\n",
       "    <tr>\n",
       "      <th>2</th>\n",
       "      <td>FM20160503035ACaNSzJD</td>\n",
       "      <td>Si potrebbe aspettare il mese di luglio per la...</td>\n",
       "    </tr>\n",
       "    <tr>\n",
       "      <th>3</th>\n",
       "      <td>FM20160503035ACDx00JD</td>\n",
       "      <td>Un fondo chiuso per aiutare le piccole e medie...</td>\n",
       "    </tr>\n",
       "    <tr>\n",
       "      <th>4</th>\n",
       "      <td>FM20160428033ACi2kvGD</td>\n",
       "      <td>A volte le provocazioni sortiscono l’effetto s...</td>\n",
       "    </tr>\n",
       "  </tbody>\n",
       "</table>\n",
       "</div>"
      ],
      "text/plain": [
       "          identificativo                                               body\n",
       "0  FM20160429032ACC9MUHD  Acea è pronta a giocare la sua partita sulla b...\n",
       "1  FM20160501023ACLAzwID  L’unica certezza, per il momento, è che la pro...\n",
       "2  FM20160503035ACaNSzJD  Si potrebbe aspettare il mese di luglio per la...\n",
       "3  FM20160503035ACDx00JD  Un fondo chiuso per aiutare le piccole e medie...\n",
       "4  FM20160428033ACi2kvGD  A volte le provocazioni sortiscono l’effetto s..."
      ]
     },
     "execution_count": 3,
     "metadata": {},
     "output_type": "execute_result"
    }
   ],
   "source": [
    "colsel_trains24 = trains24[['identificativo', 'body']]\n",
    "colsel_trains24.head()"
   ]
  },
  {
   "cell_type": "code",
   "execution_count": 4,
   "metadata": {
    "collapsed": false
   },
   "outputs": [
    {
     "data": {
      "text/html": [
       "<div>\n",
       "<table border=\"1\" class=\"dataframe\">\n",
       "  <thead>\n",
       "    <tr style=\"text-align: right;\">\n",
       "      <th></th>\n",
       "      <th>identificativo</th>\n",
       "      <th>body</th>\n",
       "    </tr>\n",
       "  </thead>\n",
       "  <tbody>\n",
       "    <tr>\n",
       "      <th>0</th>\n",
       "      <td>RR201611141524426</td>\n",
       "      <td>L'obiettivo e' raccolta fondi per supporto a f...</td>\n",
       "    </tr>\n",
       "    <tr>\n",
       "      <th>1</th>\n",
       "      <td>RR201611141638439</td>\n",
       "      <td>L'obiettivo e' raccolta fondi per supporto a f...</td>\n",
       "    </tr>\n",
       "    <tr>\n",
       "      <th>2</th>\n",
       "      <td>RR201611141655450</td>\n",
       "      <td>(Il Sole 24 Ore Radiocor Plus) - Milano, 14 no...</td>\n",
       "    </tr>\n",
       "    <tr>\n",
       "      <th>3</th>\n",
       "      <td>RR201611101529490</td>\n",
       "      <td>(Il Sole 24 Ore Radiocor Plus) - Milano, 10 no...</td>\n",
       "    </tr>\n",
       "    <tr>\n",
       "      <th>4</th>\n",
       "      <td>RR201611101517481</td>\n",
       "      <td>(Il Sole 24 Ore Radiocor Plus) - Milano, 10 no...</td>\n",
       "    </tr>\n",
       "  </tbody>\n",
       "</table>\n",
       "</div>"
      ],
      "text/plain": [
       "      identificativo                                               body\n",
       "0  RR201611141524426  L'obiettivo e' raccolta fondi per supporto a f...\n",
       "1  RR201611141638439  L'obiettivo e' raccolta fondi per supporto a f...\n",
       "2  RR201611141655450  (Il Sole 24 Ore Radiocor Plus) - Milano, 14 no...\n",
       "3  RR201611101529490  (Il Sole 24 Ore Radiocor Plus) - Milano, 10 no...\n",
       "4  RR201611101517481  (Il Sole 24 Ore Radiocor Plus) - Milano, 10 no..."
      ]
     },
     "execution_count": 4,
     "metadata": {},
     "output_type": "execute_result"
    }
   ],
   "source": [
    "colsel_trainRadiocor = trainRadiocor[['identificativo', 'body']]\n",
    "colsel_trainRadiocor.head()"
   ]
  },
  {
   "cell_type": "code",
   "execution_count": 5,
   "metadata": {
    "collapsed": false
   },
   "outputs": [
    {
     "data": {
      "text/plain": [
       "(10181, 2)"
      ]
     },
     "execution_count": 5,
     "metadata": {},
     "output_type": "execute_result"
    }
   ],
   "source": [
    "colsel_merged = pd.concat([colsel_trains24, colsel_trainRadiocor])\n",
    "colsel_merged.shape"
   ]
  },
  {
   "cell_type": "code",
   "execution_count": 6,
   "metadata": {
    "collapsed": false
   },
   "outputs": [],
   "source": [
    "colsel_merged.dropna(inplace=True)\n",
    "colsel_merged = colsel_merged.reset_index()\n",
    "colsel_merged = colsel_merged.drop('index', axis=1)"
   ]
  },
  {
   "cell_type": "code",
   "execution_count": 7,
   "metadata": {
    "collapsed": false
   },
   "outputs": [
    {
     "data": {
      "text/html": [
       "<div>\n",
       "<table border=\"1\" class=\"dataframe\">\n",
       "  <thead>\n",
       "    <tr style=\"text-align: right;\">\n",
       "      <th></th>\n",
       "      <th>identificativo</th>\n",
       "      <th>body</th>\n",
       "    </tr>\n",
       "  </thead>\n",
       "  <tbody>\n",
       "    <tr>\n",
       "      <th>0</th>\n",
       "      <td>FM20160429032ACC9MUHD</td>\n",
       "      <td>Acea è pronta a giocare la sua partita sulla b...</td>\n",
       "    </tr>\n",
       "    <tr>\n",
       "      <th>1</th>\n",
       "      <td>FM20160501023ACLAzwID</td>\n",
       "      <td>L’unica certezza, per il momento, è che la pro...</td>\n",
       "    </tr>\n",
       "    <tr>\n",
       "      <th>2</th>\n",
       "      <td>FM20160503035ACaNSzJD</td>\n",
       "      <td>Si potrebbe aspettare il mese di luglio per la...</td>\n",
       "    </tr>\n",
       "    <tr>\n",
       "      <th>3</th>\n",
       "      <td>FM20160503035ACDx00JD</td>\n",
       "      <td>Un fondo chiuso per aiutare le piccole e medie...</td>\n",
       "    </tr>\n",
       "    <tr>\n",
       "      <th>4</th>\n",
       "      <td>FM20160428033ACi2kvGD</td>\n",
       "      <td>A volte le provocazioni sortiscono l’effetto s...</td>\n",
       "    </tr>\n",
       "  </tbody>\n",
       "</table>\n",
       "</div>"
      ],
      "text/plain": [
       "          identificativo                                               body\n",
       "0  FM20160429032ACC9MUHD  Acea è pronta a giocare la sua partita sulla b...\n",
       "1  FM20160501023ACLAzwID  L’unica certezza, per il momento, è che la pro...\n",
       "2  FM20160503035ACaNSzJD  Si potrebbe aspettare il mese di luglio per la...\n",
       "3  FM20160503035ACDx00JD  Un fondo chiuso per aiutare le piccole e medie...\n",
       "4  FM20160428033ACi2kvGD  A volte le provocazioni sortiscono l’effetto s..."
      ]
     },
     "execution_count": 7,
     "metadata": {},
     "output_type": "execute_result"
    }
   ],
   "source": [
    "colsel_merged.head()"
   ]
  },
  {
   "cell_type": "markdown",
   "metadata": {},
   "source": [
    "## Clean dataset:"
   ]
  },
  {
   "cell_type": "code",
   "execution_count": 8,
   "metadata": {
    "collapsed": false
   },
   "outputs": [
    {
     "name": "stdout",
     "output_type": "stream",
     "text": [
      "SHAPE BEFORE REMOVING DUPLICATES: (10150, 2)\n",
      "SHAPE AFTER REMOVING DUPLICATES: (9283, 2)\n"
     ]
    }
   ],
   "source": [
    "colsel_merged['body'] = colsel_merged['body'].apply(lambda x : str(x).lower())\n",
    "colsel_merged['body'] = colsel_merged['body'].str.replace(r'( )+',' ')\n",
    "colsel_merged['body'] = colsel_merged['body'].str.replace('\\n','')\n",
    "colsel_merged['body'] = colsel_merged['body'].str.replace(r'il( )?sole( )?24( )?ore','sole24ore')\n",
    "colsel_merged['body'] = colsel_merged['body'].str.replace('(milion(i|e)|miliard(i|o)|euro)','')\n",
    "colsel_merged['body'] = colsel_merged['body'].str.replace(r'((\\()?( )?sole24ore (radiocor)?( plus)?( )?(\\))?.\\-.*?)\\-','')\n",
    "colsel_merged['body'] = colsel_merged['body'].str.replace(r'(continua (da )?pagina [0-9]+)© riproduzione riservata(continua (da )?pagina [0-9]+)', '')\n",
    "colsel_merged['body'] = colsel_merged['body'].str.replace(r'((© )?riproduzione riser(vata)?).*','') \n",
    "colsel_merged['body'] = colsel_merged['body'].str.replace(r'(www\\.|http\\:\\/\\/|https\\:\\/\\/|\\.com|\\.net|\\.org|\\.it|@[a-zA-Z]+)','')\n",
    "colsel_merged['body'] = colsel_merged['body'].str.replace(r'(http|ftp|https)://([\\w_-]+(?:(?:\\.[\\w_-]+)+))([\\w.,@?^=%&:/~+#-]*[\\w@?^=%&/~+#-])?','')  \n",
    "print(\"SHAPE BEFORE REMOVING DUPLICATES: \" + str(colsel_merged.shape)) \n",
    "colsel_merged.drop_duplicates(inplace=True) \n",
    "print(\"SHAPE AFTER REMOVING DUPLICATES: \" + str(colsel_merged.shape)) \n",
    "colsel_merged['body'] = colsel_merged['body'].apply(lambda x: BeautifulSoup(str(x), \"lxml\").get_text())"
   ]
  },
  {
   "cell_type": "code",
   "execution_count": 9,
   "metadata": {
    "collapsed": false
   },
   "outputs": [],
   "source": [
    "def tagDocuments(text):\n",
    "    for i, line in enumerate(text):\n",
    "        if(i%1000 == 0):\n",
    "            print(\"> Iteration: \" + str(i))\n",
    "        yield gensim.models.doc2vec.TaggedDocument([w for w in gensim.utils.simple_preprocess(line)], [i])"
   ]
  },
  {
   "cell_type": "code",
   "execution_count": 10,
   "metadata": {
    "collapsed": false
   },
   "outputs": [
    {
     "data": {
      "text/html": [
       "<div>\n",
       "<table border=\"1\" class=\"dataframe\">\n",
       "  <thead>\n",
       "    <tr style=\"text-align: right;\">\n",
       "      <th></th>\n",
       "      <th>identificativo</th>\n",
       "      <th>body</th>\n",
       "    </tr>\n",
       "  </thead>\n",
       "  <tbody>\n",
       "    <tr>\n",
       "      <th>0</th>\n",
       "      <td>FM20160429032ACC9MUHD</td>\n",
       "      <td>acea è pronta a giocare la sua partita sulla b...</td>\n",
       "    </tr>\n",
       "    <tr>\n",
       "      <th>1</th>\n",
       "      <td>FM20160501023ACLAzwID</td>\n",
       "      <td>l’unica certezza, per il momento, è che la pro...</td>\n",
       "    </tr>\n",
       "    <tr>\n",
       "      <th>2</th>\n",
       "      <td>FM20160503035ACaNSzJD</td>\n",
       "      <td>si potrebbe aspettare il mese di luglio per la...</td>\n",
       "    </tr>\n",
       "    <tr>\n",
       "      <th>3</th>\n",
       "      <td>FM20160503035ACDx00JD</td>\n",
       "      <td>un fondo chiuso per aiutare le piccole e medie...</td>\n",
       "    </tr>\n",
       "    <tr>\n",
       "      <th>4</th>\n",
       "      <td>FM20160428033ACi2kvGD</td>\n",
       "      <td>a volte le provocazioni sortiscono l’effetto s...</td>\n",
       "    </tr>\n",
       "  </tbody>\n",
       "</table>\n",
       "</div>"
      ],
      "text/plain": [
       "          identificativo                                               body\n",
       "0  FM20160429032ACC9MUHD  acea è pronta a giocare la sua partita sulla b...\n",
       "1  FM20160501023ACLAzwID  l’unica certezza, per il momento, è che la pro...\n",
       "2  FM20160503035ACaNSzJD  si potrebbe aspettare il mese di luglio per la...\n",
       "3  FM20160503035ACDx00JD  un fondo chiuso per aiutare le piccole e medie...\n",
       "4  FM20160428033ACi2kvGD  a volte le provocazioni sortiscono l’effetto s..."
      ]
     },
     "execution_count": 10,
     "metadata": {},
     "output_type": "execute_result"
    }
   ],
   "source": [
    "colsel_merged = colsel_merged.reset_index()\n",
    "colsel_merged = colsel_merged.drop('index', axis=1)\n",
    "colsel_merged.head()"
   ]
  },
  {
   "cell_type": "markdown",
   "metadata": {},
   "source": [
    "## Extract train data from dataframe into list:"
   ]
  },
  {
   "cell_type": "code",
   "execution_count": 11,
   "metadata": {
    "collapsed": false,
    "scrolled": true
   },
   "outputs": [
    {
     "name": "stdout",
     "output_type": "stream",
     "text": [
      "> START 2017-03-17 18:52:17.272464\n",
      "> Iteration: 0\n",
      "> Iteration: 1000\n",
      "> Iteration: 2000\n",
      "> Iteration: 3000\n",
      "> Iteration: 4000\n",
      "> Iteration: 5000\n",
      "> Iteration: 6000\n",
      "> Iteration: 7000\n",
      "> Iteration: 8000\n",
      "> Iteration: 9000\n",
      "> END 2017-03-17 18:52:22.342050\n"
     ]
    },
    {
     "data": {
      "text/plain": [
       "9283"
      ]
     },
     "execution_count": 11,
     "metadata": {},
     "output_type": "execute_result"
    }
   ],
   "source": [
    "print(\"> START %s\" % datetime.datetime.now())\n",
    "train_corpus = list(tagDocuments(colsel_merged['body'].tolist()))\n",
    "print(\"> END %s\" % str(datetime.datetime.now()))\n",
    "\n",
    "len(train_corpus)"
   ]
  },
  {
   "cell_type": "code",
   "execution_count": 12,
   "metadata": {
    "collapsed": false,
    "scrolled": false
   },
   "outputs": [
    {
     "data": {
      "image/png": "[encoded data removed]",
      "text/plain": [
       "<matplotlib.figure.Figure at 0x1240fc9b0>"
      ]
     },
     "metadata": {},
     "output_type": "display_data"
    }
   ],
   "source": [
    "def wordcloud(dataframe):\n",
    "    wordcloud = WordCloud(background_color=\"white\", stopwords = stopwords.words(\"italian\")).generate(\" \".join([i for i in dataframe.str.upper()]))\n",
    "    plt.imshow(wordcloud)\n",
    "    fig_size = plt.rcParams[\"figure.figsize\"]\n",
    "    fig_size[0] = 10\n",
    "    fig_size[1] = 7\n",
    "    plt.figure\n",
    "    plt.axis(\"off\")\n",
    "    plt.title(\"plot\")\n",
    "    plt.show()\n",
    "\n",
    "wc = wordcloud(colsel_merged['body'])"
   ]
  },
  {
   "cell_type": "markdown",
   "metadata": {},
   "source": [
    "# New section:"
   ]
  },
  {
   "cell_type": "code",
   "execution_count": 13,
   "metadata": {
    "collapsed": false
   },
   "outputs": [],
   "source": [
    "list_of_corpus = []\n",
    "\n",
    "for i in np.arange(0, len(train_corpus)):\n",
    "    \n",
    "    list_of_corpus.append(train_corpus[i][0])\n",
    "\n",
    "stops = set(stopwords.words('italian'))"
   ]
  },
  {
   "cell_type": "code",
   "execution_count": 14,
   "metadata": {
    "collapsed": true
   },
   "outputs": [],
   "source": [
    "bigram = gensim.models.Phrases(list_of_corpus)"
   ]
  },
  {
   "cell_type": "code",
   "execution_count": 15,
   "metadata": {
    "collapsed": true
   },
   "outputs": [],
   "source": [
    "def process_texts(documents):\n",
    "    \"\"\"\n",
    "    Function to process texts. Following are the steps we take:\n",
    "    \n",
    "    1. Stopword Removal.\n",
    "    2. Collocation detection.\n",
    "    3. Lemmatization (not stem since stemming can reduce the interpretability).\n",
    "    \n",
    "    Parameters:\n",
    "    ----------\n",
    "    texts: Tokenized texts.\n",
    "    \n",
    "    Returns:\n",
    "    -------\n",
    "    texts: Pre-processed tokenized texts.\n",
    "    \"\"\"\n",
    "    #no stop words\n",
    "    texts = [[word for word in document if word not in stops] for document in documents]\n",
    "    \n",
    "    #bigram aggregation\n",
    "    texts = [bigram[document] for document in documents]\n",
    "    \n",
    "    #from nltk.stem import WordNetLemmatizer\n",
    "    #lemmatizer = WordNetLemmatizer()\n",
    "    \n",
    "    #texts = [[word for word in lemmatizer.lemmatize(' '.join(document), pos='v').split()] for document in documents]\n",
    "\n",
    "    return texts"
   ]
  },
  {
   "cell_type": "code",
   "execution_count": 16,
   "metadata": {
    "collapsed": false
   },
   "outputs": [],
   "source": [
    "train_texts = process_texts(list_of_corpus)\n",
    "\n",
    "second_dictionary = Dictionary(train_texts)\n",
    "corpus = [second_dictionary.doc2bow(text) for text in train_texts]"
   ]
  },
  {
   "cell_type": "code",
   "execution_count": 17,
   "metadata": {
    "collapsed": false
   },
   "outputs": [
    {
     "data": {
      "text/plain": [
       "(0, 1)"
      ]
     },
     "execution_count": 17,
     "metadata": {},
     "output_type": "execute_result"
    }
   ],
   "source": [
    "corpus[0][0]"
   ]
  }
 ],
 "metadata": {
  "anaconda-cloud": {},
  "kernelspec": {
   "display_name": "Python 3",
   "language": "python",
   "name": "python3"
  },
  "language_info": {
   "codemirror_mode": {
    "name": "ipython",
    "version": 3
   },
   "file_extension": ".py",
   "mimetype": "text/x-python",
   "name": "python",
   "nbconvert_exporter": "python",
   "pygments_lexer": "ipython3",
   "version": "3.6.0"
  }
 },
 "nbformat": 4,
 "nbformat_minor": 2
}
