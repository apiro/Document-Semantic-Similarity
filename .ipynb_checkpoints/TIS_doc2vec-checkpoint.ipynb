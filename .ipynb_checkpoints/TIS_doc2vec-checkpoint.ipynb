{
 "cells": [
  {
   "cell_type": "markdown",
   "metadata": {},
   "source": [
    "# Jago:"
   ]
  },
  {
   "cell_type": "markdown",
   "metadata": {},
   "source": [
    "## Import packages:"
   ]
  },
  {
   "cell_type": "code",
   "execution_count": 1,
   "metadata": {
    "collapsed": false
   },
   "outputs": [],
   "source": [
    "import pandas as pd\n",
    "import numpy as np\n",
    "from bs4 import BeautifulSoup\n",
    "from nltk.corpus import stopwords\n",
    "import nltk \n",
    "import gensim\n",
    "import re\n",
    "import datetime\n",
    "import collections\n",
    "import random\n",
    "from wordcloud import WordCloud\n",
    "import matplotlib.pyplot as plt"
   ]
  },
  {
   "cell_type": "markdown",
   "metadata": {},
   "source": [
    "## Load dataset:"
   ]
  },
  {
   "cell_type": "code",
   "execution_count": 2,
   "metadata": {
    "collapsed": false
   },
   "outputs": [],
   "source": [
    "trains24 = pd.read_csv(\"./Dataset/articoliS24O.csv\", delimiter=\"\\t\")\n",
    "trainRadiocor = pd.read_csv(\"./Dataset/articoliRadiocor.csv\", delimiter='\\t')"
   ]
  },
  {
   "cell_type": "code",
   "execution_count": 3,
   "metadata": {
    "collapsed": false
   },
   "outputs": [
    {
     "data": {
      "text/html": [
       "<div>\n",
       "<table border=\"1\" class=\"dataframe\">\n",
       "  <thead>\n",
       "    <tr style=\"text-align: right;\">\n",
       "      <th></th>\n",
       "      <th>identificativo</th>\n",
       "      <th>body</th>\n",
       "    </tr>\n",
       "  </thead>\n",
       "  <tbody>\n",
       "    <tr>\n",
       "      <th>0</th>\n",
       "      <td>FM20160429032ACC9MUHD</td>\n",
       "      <td>Acea è pronta a giocare la sua partita sulla b...</td>\n",
       "    </tr>\n",
       "    <tr>\n",
       "      <th>1</th>\n",
       "      <td>FM20160501023ACLAzwID</td>\n",
       "      <td>L’unica certezza, per il momento, è che la pro...</td>\n",
       "    </tr>\n",
       "    <tr>\n",
       "      <th>2</th>\n",
       "      <td>FM20160503035ACaNSzJD</td>\n",
       "      <td>Si potrebbe aspettare il mese di luglio per la...</td>\n",
       "    </tr>\n",
       "    <tr>\n",
       "      <th>3</th>\n",
       "      <td>FM20160503035ACDx00JD</td>\n",
       "      <td>Un fondo chiuso per aiutare le piccole e medie...</td>\n",
       "    </tr>\n",
       "    <tr>\n",
       "      <th>4</th>\n",
       "      <td>FM20160428033ACi2kvGD</td>\n",
       "      <td>A volte le provocazioni sortiscono l’effetto s...</td>\n",
       "    </tr>\n",
       "  </tbody>\n",
       "</table>\n",
       "</div>"
      ],
      "text/plain": [
       "          identificativo                                               body\n",
       "0  FM20160429032ACC9MUHD  Acea è pronta a giocare la sua partita sulla b...\n",
       "1  FM20160501023ACLAzwID  L’unica certezza, per il momento, è che la pro...\n",
       "2  FM20160503035ACaNSzJD  Si potrebbe aspettare il mese di luglio per la...\n",
       "3  FM20160503035ACDx00JD  Un fondo chiuso per aiutare le piccole e medie...\n",
       "4  FM20160428033ACi2kvGD  A volte le provocazioni sortiscono l’effetto s..."
      ]
     },
     "execution_count": 3,
     "metadata": {},
     "output_type": "execute_result"
    }
   ],
   "source": [
    "colsel_trains24 = trains24[['identificativo', 'body']]\n",
    "colsel_trains24.head()"
   ]
  },
  {
   "cell_type": "code",
   "execution_count": 4,
   "metadata": {
    "collapsed": false
   },
   "outputs": [
    {
     "data": {
      "text/html": [
       "<div>\n",
       "<table border=\"1\" class=\"dataframe\">\n",
       "  <thead>\n",
       "    <tr style=\"text-align: right;\">\n",
       "      <th></th>\n",
       "      <th>identificativo</th>\n",
       "      <th>body</th>\n",
       "    </tr>\n",
       "  </thead>\n",
       "  <tbody>\n",
       "    <tr>\n",
       "      <th>0</th>\n",
       "      <td>RR201611141524426</td>\n",
       "      <td>L'obiettivo e' raccolta fondi per supporto a f...</td>\n",
       "    </tr>\n",
       "    <tr>\n",
       "      <th>1</th>\n",
       "      <td>RR201611141638439</td>\n",
       "      <td>L'obiettivo e' raccolta fondi per supporto a f...</td>\n",
       "    </tr>\n",
       "    <tr>\n",
       "      <th>2</th>\n",
       "      <td>RR201611141655450</td>\n",
       "      <td>(Il Sole 24 Ore Radiocor Plus) - Milano, 14 no...</td>\n",
       "    </tr>\n",
       "    <tr>\n",
       "      <th>3</th>\n",
       "      <td>RR201611101529490</td>\n",
       "      <td>(Il Sole 24 Ore Radiocor Plus) - Milano, 10 no...</td>\n",
       "    </tr>\n",
       "    <tr>\n",
       "      <th>4</th>\n",
       "      <td>RR201611101517481</td>\n",
       "      <td>(Il Sole 24 Ore Radiocor Plus) - Milano, 10 no...</td>\n",
       "    </tr>\n",
       "  </tbody>\n",
       "</table>\n",
       "</div>"
      ],
      "text/plain": [
       "      identificativo                                               body\n",
       "0  RR201611141524426  L'obiettivo e' raccolta fondi per supporto a f...\n",
       "1  RR201611141638439  L'obiettivo e' raccolta fondi per supporto a f...\n",
       "2  RR201611141655450  (Il Sole 24 Ore Radiocor Plus) - Milano, 14 no...\n",
       "3  RR201611101529490  (Il Sole 24 Ore Radiocor Plus) - Milano, 10 no...\n",
       "4  RR201611101517481  (Il Sole 24 Ore Radiocor Plus) - Milano, 10 no..."
      ]
     },
     "execution_count": 4,
     "metadata": {},
     "output_type": "execute_result"
    }
   ],
   "source": [
    "colsel_trainRadiocor = trainRadiocor[['identificativo', 'body']]\n",
    "colsel_trainRadiocor.head()"
   ]
  },
  {
   "cell_type": "code",
   "execution_count": 5,
   "metadata": {
    "collapsed": false
   },
   "outputs": [
    {
     "data": {
      "text/plain": [
       "(10181, 2)"
      ]
     },
     "execution_count": 5,
     "metadata": {},
     "output_type": "execute_result"
    }
   ],
   "source": [
    "colsel_merged = pd.concat([colsel_trains24, colsel_trainRadiocor])\n",
    "colsel_merged.shape"
   ]
  },
  {
   "cell_type": "code",
   "execution_count": 6,
   "metadata": {
    "collapsed": false
   },
   "outputs": [],
   "source": [
    "colsel_merged.dropna(inplace=True)\n",
    "colsel_merged = colsel_merged.reset_index()\n",
    "colsel_merged = colsel_merged.drop('index', axis=1)"
   ]
  },
  {
   "cell_type": "code",
   "execution_count": 7,
   "metadata": {
    "collapsed": false
   },
   "outputs": [
    {
     "data": {
      "text/html": [
       "<div>\n",
       "<table border=\"1\" class=\"dataframe\">\n",
       "  <thead>\n",
       "    <tr style=\"text-align: right;\">\n",
       "      <th></th>\n",
       "      <th>identificativo</th>\n",
       "      <th>body</th>\n",
       "    </tr>\n",
       "  </thead>\n",
       "  <tbody>\n",
       "    <tr>\n",
       "      <th>0</th>\n",
       "      <td>FM20160429032ACC9MUHD</td>\n",
       "      <td>Acea è pronta a giocare la sua partita sulla b...</td>\n",
       "    </tr>\n",
       "    <tr>\n",
       "      <th>1</th>\n",
       "      <td>FM20160501023ACLAzwID</td>\n",
       "      <td>L’unica certezza, per il momento, è che la pro...</td>\n",
       "    </tr>\n",
       "    <tr>\n",
       "      <th>2</th>\n",
       "      <td>FM20160503035ACaNSzJD</td>\n",
       "      <td>Si potrebbe aspettare il mese di luglio per la...</td>\n",
       "    </tr>\n",
       "    <tr>\n",
       "      <th>3</th>\n",
       "      <td>FM20160503035ACDx00JD</td>\n",
       "      <td>Un fondo chiuso per aiutare le piccole e medie...</td>\n",
       "    </tr>\n",
       "    <tr>\n",
       "      <th>4</th>\n",
       "      <td>FM20160428033ACi2kvGD</td>\n",
       "      <td>A volte le provocazioni sortiscono l’effetto s...</td>\n",
       "    </tr>\n",
       "  </tbody>\n",
       "</table>\n",
       "</div>"
      ],
      "text/plain": [
       "          identificativo                                               body\n",
       "0  FM20160429032ACC9MUHD  Acea è pronta a giocare la sua partita sulla b...\n",
       "1  FM20160501023ACLAzwID  L’unica certezza, per il momento, è che la pro...\n",
       "2  FM20160503035ACaNSzJD  Si potrebbe aspettare il mese di luglio per la...\n",
       "3  FM20160503035ACDx00JD  Un fondo chiuso per aiutare le piccole e medie...\n",
       "4  FM20160428033ACi2kvGD  A volte le provocazioni sortiscono l’effetto s..."
      ]
     },
     "execution_count": 7,
     "metadata": {},
     "output_type": "execute_result"
    }
   ],
   "source": [
    "colsel_merged.head()"
   ]
  },
  {
   "cell_type": "markdown",
   "metadata": {},
   "source": [
    "## Clean dataset:"
   ]
  },
  {
   "cell_type": "code",
   "execution_count": 8,
   "metadata": {
    "collapsed": false
   },
   "outputs": [
    {
     "name": "stdout",
     "output_type": "stream",
     "text": [
      "SHAPE BEFORE REMOVING DUPLICATES: (10150, 2)\n",
      "SHAPE AFTER REMOVING DUPLICATES: (9283, 2)\n"
     ]
    }
   ],
   "source": [
    "colsel_merged['body'] = colsel_merged['body'].apply(lambda x : str(x).lower())\n",
    "colsel_merged['body'] = colsel_merged['body'].str.replace(r'( )+',' ')\n",
    "colsel_merged['body'] = colsel_merged['body'].str.replace('\\n','')\n",
    "colsel_merged['body'] = colsel_merged['body'].str.replace(r'il( )?sole( )?24( )?ore','sole24ore')\n",
    "colsel_merged['body'] = colsel_merged['body'].str.replace('(milion(i|e)|miliard(i|o)|euro)','')\n",
    "colsel_merged['body'] = colsel_merged['body'].str.replace(r'((\\()?( )?sole24ore (radiocor)?( plus)?( )?(\\))?.\\-.*?)\\-','')\n",
    "colsel_merged['body'] = colsel_merged['body'].str.replace(r'(continua (da )?pagina [0-9]+)© riproduzione riservata(continua (da )?pagina [0-9]+)', '')\n",
    "colsel_merged['body'] = colsel_merged['body'].str.replace(r'((© )?riproduzione riser(vata)?).*','') \n",
    "colsel_merged['body'] = colsel_merged['body'].str.replace(r'(www\\.|http\\:\\/\\/|https\\:\\/\\/|\\.com|\\.net|\\.org|\\.it|@[a-zA-Z]+)','')\n",
    "colsel_merged['body'] = colsel_merged['body'].str.replace(r'(http|ftp|https)://([\\w_-]+(?:(?:\\.[\\w_-]+)+))([\\w.,@?^=%&:/~+#-]*[\\w@?^=%&/~+#-])?','')  \n",
    "print(\"SHAPE BEFORE REMOVING DUPLICATES: \" + str(colsel_merged.shape)) \n",
    "colsel_merged.drop_duplicates(inplace=True) \n",
    "print(\"SHAPE AFTER REMOVING DUPLICATES: \" + str(colsel_merged.shape)) \n",
    "colsel_merged['body'] = colsel_merged['body'].apply(lambda x: BeautifulSoup(str(x), \"lxml\").get_text())"
   ]
  },
  {
   "cell_type": "code",
   "execution_count": 9,
   "metadata": {
    "collapsed": false
   },
   "outputs": [],
   "source": [
    "def tagDocuments(text):\n",
    "    for i, line in enumerate(text):\n",
    "        if(i%1000 == 0):\n",
    "            print(\"> Iteration: \" + str(i))\n",
    "        yield gensim.models.doc2vec.TaggedDocument([w for w in gensim.utils.simple_preprocess(line) if not w in stopwords.words(\"italian\")], [i])"
   ]
  },
  {
   "cell_type": "code",
   "execution_count": 10,
   "metadata": {
    "collapsed": false
   },
   "outputs": [
    {
     "data": {
      "text/html": [
       "<div>\n",
       "<table border=\"1\" class=\"dataframe\">\n",
       "  <thead>\n",
       "    <tr style=\"text-align: right;\">\n",
       "      <th></th>\n",
       "      <th>identificativo</th>\n",
       "      <th>body</th>\n",
       "    </tr>\n",
       "  </thead>\n",
       "  <tbody>\n",
       "    <tr>\n",
       "      <th>0</th>\n",
       "      <td>FM20160429032ACC9MUHD</td>\n",
       "      <td>acea è pronta a giocare la sua partita sulla b...</td>\n",
       "    </tr>\n",
       "    <tr>\n",
       "      <th>1</th>\n",
       "      <td>FM20160501023ACLAzwID</td>\n",
       "      <td>l’unica certezza, per il momento, è che la pro...</td>\n",
       "    </tr>\n",
       "    <tr>\n",
       "      <th>2</th>\n",
       "      <td>FM20160503035ACaNSzJD</td>\n",
       "      <td>si potrebbe aspettare il mese di luglio per la...</td>\n",
       "    </tr>\n",
       "    <tr>\n",
       "      <th>3</th>\n",
       "      <td>FM20160503035ACDx00JD</td>\n",
       "      <td>un fondo chiuso per aiutare le piccole e medie...</td>\n",
       "    </tr>\n",
       "    <tr>\n",
       "      <th>4</th>\n",
       "      <td>FM20160428033ACi2kvGD</td>\n",
       "      <td>a volte le provocazioni sortiscono l’effetto s...</td>\n",
       "    </tr>\n",
       "  </tbody>\n",
       "</table>\n",
       "</div>"
      ],
      "text/plain": [
       "          identificativo                                               body\n",
       "0  FM20160429032ACC9MUHD  acea è pronta a giocare la sua partita sulla b...\n",
       "1  FM20160501023ACLAzwID  l’unica certezza, per il momento, è che la pro...\n",
       "2  FM20160503035ACaNSzJD  si potrebbe aspettare il mese di luglio per la...\n",
       "3  FM20160503035ACDx00JD  un fondo chiuso per aiutare le piccole e medie...\n",
       "4  FM20160428033ACi2kvGD  a volte le provocazioni sortiscono l’effetto s..."
      ]
     },
     "execution_count": 10,
     "metadata": {},
     "output_type": "execute_result"
    }
   ],
   "source": [
    "colsel_merged = colsel_merged.reset_index()\n",
    "colsel_merged = colsel_merged.drop('index', axis=1)\n",
    "colsel_merged.head()"
   ]
  },
  {
   "cell_type": "markdown",
   "metadata": {},
   "source": [
    "## Extract train data from dataframe into list:"
   ]
  },
  {
   "cell_type": "code",
   "execution_count": 11,
   "metadata": {
    "collapsed": false,
    "scrolled": true
   },
   "outputs": [
    {
     "name": "stdout",
     "output_type": "stream",
     "text": [
      "> START 2017-03-17 17:24:12.883508\n",
      "> Iteration: 0\n",
      "> Iteration: 1000\n",
      "> Iteration: 2000\n",
      "> Iteration: 3000\n",
      "> Iteration: 4000\n",
      "> Iteration: 5000\n",
      "> Iteration: 6000\n",
      "> Iteration: 7000\n",
      "> Iteration: 8000\n",
      "> Iteration: 9000\n",
      "> END 2017-03-17 17:31:10.908823\n"
     ]
    },
    {
     "data": {
      "text/plain": [
       "9283"
      ]
     },
     "execution_count": 11,
     "metadata": {},
     "output_type": "execute_result"
    }
   ],
   "source": [
    "print(\"> START %s\" % datetime.datetime.now())\n",
    "train_corpus = list(tagDocuments(colsel_merged['body'].tolist()))\n",
    "print(\"> END %s\" % str(datetime.datetime.now()))\n",
    "\n",
    "len(train_corpus)"
   ]
  },
  {
   "cell_type": "markdown",
   "metadata": {},
   "source": [
    "## Prepare model:"
   ]
  },
  {
   "cell_type": "code",
   "execution_count": 12,
   "metadata": {
    "collapsed": false
   },
   "outputs": [],
   "source": [
    "model = gensim.models.doc2vec.Doc2Vec(size=50, min_count=2, iter=55)"
   ]
  },
  {
   "cell_type": "code",
   "execution_count": 13,
   "metadata": {
    "collapsed": true
   },
   "outputs": [],
   "source": [
    "model_name = \"model_17_03_2017\"\n",
    "model.save(model_name)"
   ]
  },
  {
   "cell_type": "code",
   "execution_count": 14,
   "metadata": {
    "collapsed": false
   },
   "outputs": [],
   "source": [
    "model.build_vocab(train_corpus)"
   ]
  },
  {
   "cell_type": "code",
   "execution_count": 15,
   "metadata": {
    "collapsed": false
   },
   "outputs": [
    {
     "data": {
      "text/plain": [
       "8962"
      ]
     },
     "execution_count": 15,
     "metadata": {},
     "output_type": "execute_result"
    }
   ],
   "source": [
    "model.wv.vocab['gruppo'].count"
   ]
  },
  {
   "cell_type": "code",
   "execution_count": 16,
   "metadata": {
    "collapsed": false,
    "scrolled": true
   },
   "outputs": [
    {
     "data": {
      "image/png": "[encoded data removed]",
      "text/plain": [
       "<matplotlib.figure.Figure at 0x1138ce710>"
      ]
     },
     "metadata": {},
     "output_type": "display_data"
    }
   ],
   "source": [
    "def wordcloud(dataframe):\n",
    "    wordcloud = WordCloud(background_color=\"white\", stopwords = stopwords.words(\"italian\")).generate(\" \".join([i for i in dataframe.str.upper()]))\n",
    "    plt.imshow(wordcloud)\n",
    "    fig_size = plt.rcParams[\"figure.figsize\"]\n",
    "    fig_size[0] = 12\n",
    "    fig_size[1] = 9\n",
    "    plt.figure\n",
    "    plt.axis(\"off\")\n",
    "    plt.title(\"plot\")\n",
    "    plt.show()\n",
    "\n",
    "wc = wordcloud(colsel_merged['body'])"
   ]
  },
  {
   "cell_type": "markdown",
   "metadata": {},
   "source": [
    "## Train model:"
   ]
  },
  {
   "cell_type": "code",
   "execution_count": 17,
   "metadata": {
    "collapsed": false,
    "scrolled": true
   },
   "outputs": [
    {
     "name": "stdout",
     "output_type": "stream",
     "text": [
      "CPU times: user 3min 15s, sys: 8.41 s, total: 3min 23s\n",
      "Wall time: 1min 25s\n"
     ]
    },
    {
     "data": {
      "text/plain": [
       "61600763"
      ]
     },
     "execution_count": 17,
     "metadata": {},
     "output_type": "execute_result"
    }
   ],
   "source": [
    "%time model.train(train_corpus)"
   ]
  },
  {
   "cell_type": "code",
   "execution_count": null,
   "metadata": {
    "collapsed": false
   },
   "outputs": [
    {
     "data": {
      "text/plain": [
       "array([-0.35256499,  0.47093812,  0.01115248, -0.17672122,  0.0535122 ,\n",
       "        0.06648962,  0.18139811, -0.15178092, -0.06265814, -0.19437034,\n",
       "        0.1597399 , -0.05919808, -0.05801152, -0.21938872,  0.05073173,\n",
       "        0.24181381,  0.15122297, -0.39865911,  0.38249958, -0.10535709,\n",
       "        0.23975722,  0.07911777, -0.24923673, -0.24400552,  0.00763324,\n",
       "       -0.03461352, -0.07031659, -0.20359358,  0.05404668, -0.11429752,\n",
       "        0.05532352,  0.04799204, -0.10783888,  0.06938767, -0.26200685,\n",
       "        0.13486271,  0.0843317 ,  0.10597157,  0.0839575 ,  0.0854262 ,\n",
       "        0.07936633,  0.03963135,  0.19045997, -0.03439005,  0.11994345,\n",
       "       -0.13358821, -0.03445455, -0.09605662,  0.05885387, -0.210684  ], dtype=float32)"
      ]
     },
     "execution_count": 18,
     "metadata": {},
     "output_type": "execute_result"
    }
   ],
   "source": [
    "model.infer_vector(['oggi', 'voglio', 'comprare', 'una', 'azione', 'di', 'mediaset'])"
   ]
  },
  {
   "cell_type": "code",
   "execution_count": null,
   "metadata": {
    "collapsed": false
   },
   "outputs": [],
   "source": [
    "ranks = [] #per ogni documento l'indice che indica a che livello si trova nella lista dei simili a se stesso)\n",
    "\n",
    "second_ranks = []\n",
    "for doc_id in range(len(train_corpus)):\n",
    "    inferred_vector = model.infer_vector(train_corpus[doc_id].words)\n",
    "    sims = model.docvecs.most_similar([inferred_vector], topn=len(model.docvecs))\n",
    "    rank = [docid for docid, sim in sims].index(doc_id)\n",
    "    ranks.append(rank)\n",
    "    \n",
    "    second_ranks.append(sims[1])"
   ]
  },
  {
   "cell_type": "markdown",
   "metadata": {},
   "source": [
    "## Evaluate model (raw):"
   ]
  },
  {
   "cell_type": "code",
   "execution_count": null,
   "metadata": {
    "collapsed": false
   },
   "outputs": [],
   "source": [
    "def score(listOfRanks):\n",
    "    correct = 0\n",
    "    for e in listOfRanks:\n",
    "        if(e >= 0 | e <= 3):\n",
    "        #if( e == 0):\n",
    "            correct = correct + 1\n",
    "    return correct/len(listOfRanks)"
   ]
  },
  {
   "cell_type": "code",
   "execution_count": null,
   "metadata": {
    "collapsed": false
   },
   "outputs": [],
   "source": [
    "score(ranks)"
   ]
  },
  {
   "cell_type": "markdown",
   "metadata": {},
   "source": [
    "### NOTE:\n",
    "\n",
    "#### ranks:\n",
    "    - num_elements = #num_docs\n",
    "    - per ogni documento ( in ordine) abbiamo l'indice che rappresenta dove trovare se stesso nella lista dei suoi simili\n",
    "    - particolarità: il documento 9282 è il 184 documento più simile a se stesso\n",
    "        \n",
    "#### second_ranks:\n",
    "    - num_elements = #num_docs\n",
    "    - per ogni domcumento ( in ordine) abbiamo il secondo documento più simile"
   ]
  },
  {
   "cell_type": "code",
   "execution_count": null,
   "metadata": {
    "collapsed": false
   },
   "outputs": [],
   "source": [
    "print('Document ({}): «{}»\\n'.format(doc_id, ' '.join(train_corpus[doc_id].words)))\n",
    "print(u'SIMILAR/DISSIMILAR DOCS PER MODEL %s:\\n' % model)\n",
    "for label, index in [('MOST', 0), ('MEDIAN', len(sims)//2), ('LEAST', len(sims) - 1)]:\n",
    "    print(u'%s %s: «%s»\\n' % (label, sims[index], ' '.join(train_corpus[sims[index][0]].words)))"
   ]
  },
  {
   "cell_type": "code",
   "execution_count": null,
   "metadata": {
    "collapsed": false
   },
   "outputs": [],
   "source": [
    "# Pick a random document from the test corpus and infer a vector from the model\n",
    "\n",
    "doc_id = random.randint(0, len(train_corpus))\n",
    "\n",
    "# Compare and print the most/median/least similar documents from the train corpus\n",
    "print('Train Document ({}): «{}»\\n'.format(doc_id, ' '.join(train_corpus[doc_id].words)))\n",
    "sim_id = second_ranks[doc_id]\n",
    "print('Similar Document {}: «{}»\\n'.format(sim_id, ' '.join(train_corpus[sim_id[0]].words)))"
   ]
  }
 ],
 "metadata": {
  "anaconda-cloud": {},
  "kernelspec": {
   "display_name": "Python 3",
   "language": "python",
   "name": "python3"
  },
  "language_info": {
   "codemirror_mode": {
    "name": "ipython",
    "version": 3
   },
   "file_extension": ".py",
   "mimetype": "text/x-python",
   "name": "python",
   "nbconvert_exporter": "python",
   "pygments_lexer": "ipython3",
   "version": "3.6.0"
  }
 },
 "nbformat": 4,
 "nbformat_minor": 2
}
