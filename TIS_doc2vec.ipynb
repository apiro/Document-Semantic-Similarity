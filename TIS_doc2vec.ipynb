{
 "cells": [
  {
   "cell_type": "markdown",
   "metadata": {},
   "source": [
    "# Jago:"
   ]
  },
  {
   "cell_type": "markdown",
   "metadata": {},
   "source": [
    "## Import packages:"
   ]
  },
  {
   "cell_type": "code",
   "execution_count": 1,
   "metadata": {
    "collapsed": false
   },
   "outputs": [],
   "source": [
    "import pandas as pd\n",
    "import numpy as np\n",
    "from bs4 import BeautifulSoup\n",
    "from nltk.corpus import stopwords\n",
    "import nltk \n",
    "import gensim\n",
    "import re\n",
    "import datetime\n",
    "import collections\n",
    "import random\n",
    "from wordcloud import WordCloud\n",
    "import matplotlib.pyplot as plt"
   ]
  },
  {
   "cell_type": "markdown",
   "metadata": {},
   "source": [
    "## Load dataset:"
   ]
  },
  {
   "cell_type": "code",
   "execution_count": 2,
   "metadata": {
    "collapsed": false
   },
   "outputs": [],
   "source": [
    "trains24 = pd.read_csv(\"./Dataset/articoliS24O.csv\", delimiter=\"\\t\")\n",
    "trainRadiocor = pd.read_csv(\"./Dataset/articoliRadiocor.csv\", delimiter='\\t')"
   ]
  },
  {
   "cell_type": "code",
   "execution_count": 3,
   "metadata": {
    "collapsed": false
   },
   "outputs": [
    {
     "data": {
      "text/html": [
       "<div>\n",
       "<table border=\"1\" class=\"dataframe\">\n",
       "  <thead>\n",
       "    <tr style=\"text-align: right;\">\n",
       "      <th></th>\n",
       "      <th>identificativo</th>\n",
       "      <th>body</th>\n",
       "    </tr>\n",
       "  </thead>\n",
       "  <tbody>\n",
       "    <tr>\n",
       "      <th>0</th>\n",
       "      <td>FM20160429032ACC9MUHD</td>\n",
       "      <td>Acea è pronta a giocare la sua partita sulla b...</td>\n",
       "    </tr>\n",
       "    <tr>\n",
       "      <th>1</th>\n",
       "      <td>FM20160501023ACLAzwID</td>\n",
       "      <td>L’unica certezza, per il momento, è che la pro...</td>\n",
       "    </tr>\n",
       "    <tr>\n",
       "      <th>2</th>\n",
       "      <td>FM20160503035ACaNSzJD</td>\n",
       "      <td>Si potrebbe aspettare il mese di luglio per la...</td>\n",
       "    </tr>\n",
       "    <tr>\n",
       "      <th>3</th>\n",
       "      <td>FM20160503035ACDx00JD</td>\n",
       "      <td>Un fondo chiuso per aiutare le piccole e medie...</td>\n",
       "    </tr>\n",
       "    <tr>\n",
       "      <th>4</th>\n",
       "      <td>FM20160428033ACi2kvGD</td>\n",
       "      <td>A volte le provocazioni sortiscono l’effetto s...</td>\n",
       "    </tr>\n",
       "  </tbody>\n",
       "</table>\n",
       "</div>"
      ],
      "text/plain": [
       "          identificativo                                               body\n",
       "0  FM20160429032ACC9MUHD  Acea è pronta a giocare la sua partita sulla b...\n",
       "1  FM20160501023ACLAzwID  L’unica certezza, per il momento, è che la pro...\n",
       "2  FM20160503035ACaNSzJD  Si potrebbe aspettare il mese di luglio per la...\n",
       "3  FM20160503035ACDx00JD  Un fondo chiuso per aiutare le piccole e medie...\n",
       "4  FM20160428033ACi2kvGD  A volte le provocazioni sortiscono l’effetto s..."
      ]
     },
     "execution_count": 3,
     "metadata": {},
     "output_type": "execute_result"
    }
   ],
   "source": [
    "colsel_trains24 = trains24[['identificativo', 'body']]\n",
    "colsel_trains24.head()"
   ]
  },
  {
   "cell_type": "code",
   "execution_count": 4,
   "metadata": {
    "collapsed": false
   },
   "outputs": [
    {
     "data": {
      "text/html": [
       "<div>\n",
       "<table border=\"1\" class=\"dataframe\">\n",
       "  <thead>\n",
       "    <tr style=\"text-align: right;\">\n",
       "      <th></th>\n",
       "      <th>identificativo</th>\n",
       "      <th>body</th>\n",
       "    </tr>\n",
       "  </thead>\n",
       "  <tbody>\n",
       "    <tr>\n",
       "      <th>0</th>\n",
       "      <td>RR201611141524426</td>\n",
       "      <td>L'obiettivo e' raccolta fondi per supporto a f...</td>\n",
       "    </tr>\n",
       "    <tr>\n",
       "      <th>1</th>\n",
       "      <td>RR201611141638439</td>\n",
       "      <td>L'obiettivo e' raccolta fondi per supporto a f...</td>\n",
       "    </tr>\n",
       "    <tr>\n",
       "      <th>2</th>\n",
       "      <td>RR201611141655450</td>\n",
       "      <td>(Il Sole 24 Ore Radiocor Plus) - Milano, 14 no...</td>\n",
       "    </tr>\n",
       "    <tr>\n",
       "      <th>3</th>\n",
       "      <td>RR201611101529490</td>\n",
       "      <td>(Il Sole 24 Ore Radiocor Plus) - Milano, 10 no...</td>\n",
       "    </tr>\n",
       "    <tr>\n",
       "      <th>4</th>\n",
       "      <td>RR201611101517481</td>\n",
       "      <td>(Il Sole 24 Ore Radiocor Plus) - Milano, 10 no...</td>\n",
       "    </tr>\n",
       "  </tbody>\n",
       "</table>\n",
       "</div>"
      ],
      "text/plain": [
       "      identificativo                                               body\n",
       "0  RR201611141524426  L'obiettivo e' raccolta fondi per supporto a f...\n",
       "1  RR201611141638439  L'obiettivo e' raccolta fondi per supporto a f...\n",
       "2  RR201611141655450  (Il Sole 24 Ore Radiocor Plus) - Milano, 14 no...\n",
       "3  RR201611101529490  (Il Sole 24 Ore Radiocor Plus) - Milano, 10 no...\n",
       "4  RR201611101517481  (Il Sole 24 Ore Radiocor Plus) - Milano, 10 no..."
      ]
     },
     "execution_count": 4,
     "metadata": {},
     "output_type": "execute_result"
    }
   ],
   "source": [
    "colsel_trainRadiocor = trainRadiocor[['identificativo', 'body']]\n",
    "colsel_trainRadiocor.head()"
   ]
  },
  {
   "cell_type": "code",
   "execution_count": 5,
   "metadata": {
    "collapsed": false
   },
   "outputs": [
    {
     "data": {
      "text/plain": [
       "(10181, 2)"
      ]
     },
     "execution_count": 5,
     "metadata": {},
     "output_type": "execute_result"
    }
   ],
   "source": [
    "colsel_merged = pd.concat([colsel_trains24, colsel_trainRadiocor])\n",
    "colsel_merged.shape"
   ]
  },
  {
   "cell_type": "code",
   "execution_count": 6,
   "metadata": {
    "collapsed": false
   },
   "outputs": [],
   "source": [
    "colsel_merged.dropna(inplace=True)\n",
    "colsel_merged = colsel_merged.reset_index()\n",
    "colsel_merged = colsel_merged.drop('index', axis=1)"
   ]
  },
  {
   "cell_type": "code",
   "execution_count": 7,
   "metadata": {
    "collapsed": false
   },
   "outputs": [
    {
     "data": {
      "text/html": [
       "<div>\n",
       "<table border=\"1\" class=\"dataframe\">\n",
       "  <thead>\n",
       "    <tr style=\"text-align: right;\">\n",
       "      <th></th>\n",
       "      <th>identificativo</th>\n",
       "      <th>body</th>\n",
       "    </tr>\n",
       "  </thead>\n",
       "  <tbody>\n",
       "    <tr>\n",
       "      <th>0</th>\n",
       "      <td>FM20160429032ACC9MUHD</td>\n",
       "      <td>Acea è pronta a giocare la sua partita sulla b...</td>\n",
       "    </tr>\n",
       "    <tr>\n",
       "      <th>1</th>\n",
       "      <td>FM20160501023ACLAzwID</td>\n",
       "      <td>L’unica certezza, per il momento, è che la pro...</td>\n",
       "    </tr>\n",
       "    <tr>\n",
       "      <th>2</th>\n",
       "      <td>FM20160503035ACaNSzJD</td>\n",
       "      <td>Si potrebbe aspettare il mese di luglio per la...</td>\n",
       "    </tr>\n",
       "    <tr>\n",
       "      <th>3</th>\n",
       "      <td>FM20160503035ACDx00JD</td>\n",
       "      <td>Un fondo chiuso per aiutare le piccole e medie...</td>\n",
       "    </tr>\n",
       "    <tr>\n",
       "      <th>4</th>\n",
       "      <td>FM20160428033ACi2kvGD</td>\n",
       "      <td>A volte le provocazioni sortiscono l’effetto s...</td>\n",
       "    </tr>\n",
       "  </tbody>\n",
       "</table>\n",
       "</div>"
      ],
      "text/plain": [
       "          identificativo                                               body\n",
       "0  FM20160429032ACC9MUHD  Acea è pronta a giocare la sua partita sulla b...\n",
       "1  FM20160501023ACLAzwID  L’unica certezza, per il momento, è che la pro...\n",
       "2  FM20160503035ACaNSzJD  Si potrebbe aspettare il mese di luglio per la...\n",
       "3  FM20160503035ACDx00JD  Un fondo chiuso per aiutare le piccole e medie...\n",
       "4  FM20160428033ACi2kvGD  A volte le provocazioni sortiscono l’effetto s..."
      ]
     },
     "execution_count": 7,
     "metadata": {},
     "output_type": "execute_result"
    }
   ],
   "source": [
    "colsel_merged.head()"
   ]
  },
  {
   "cell_type": "markdown",
   "metadata": {},
   "source": [
    "## Clean dataset:"
   ]
  },
  {
   "cell_type": "code",
   "execution_count": 8,
   "metadata": {
    "collapsed": false
   },
   "outputs": [
    {
     "name": "stdout",
     "output_type": "stream",
     "text": [
      "SHAPE BEFORE REMOVING DUPLICATES: (10150, 2)\n",
      "SHAPE AFTER REMOVING DUPLICATES: (9283, 2)\n"
     ]
    }
   ],
   "source": [
    "colsel_merged['body'] = colsel_merged['body'].apply(lambda x : str(x).lower())\n",
    "colsel_merged['body'] = colsel_merged['body'].str.replace(r'( )+',' ')\n",
    "colsel_merged['body'] = colsel_merged['body'].str.replace('\\n','')\n",
    "colsel_merged['body'] = colsel_merged['body'].str.replace(r'il( )?sole( )?24( )?ore','sole24ore')\n",
    "colsel_merged['body'] = colsel_merged['body'].str.replace('(milion(i|e)|miliard(i|o)|euro)','')\n",
    "colsel_merged['body'] = colsel_merged['body'].str.replace(r'((\\()?( )?sole24ore (radiocor)?( plus)?( )?(\\))?.\\-.*?)\\-','')\n",
    "colsel_merged['body'] = colsel_merged['body'].str.replace(r'(continua (da )?pagina [0-9]+)© riproduzione riservata(continua (da )?pagina [0-9]+)', '')\n",
    "colsel_merged['body'] = colsel_merged['body'].str.replace(r'((© )?riproduzione riser(vata)?).*','') \n",
    "colsel_merged['body'] = colsel_merged['body'].str.replace(r'(www\\.|http\\:\\/\\/|https\\:\\/\\/|\\.com|\\.net|\\.org|\\.it|@[a-zA-Z]+)','')\n",
    "colsel_merged['body'] = colsel_merged['body'].str.replace(r'(http|ftp|https)://([\\w_-]+(?:(?:\\.[\\w_-]+)+))([\\w.,@?^=%&:/~+#-]*[\\w@?^=%&/~+#-])?','')  \n",
    "print(\"SHAPE BEFORE REMOVING DUPLICATES: \" + str(colsel_merged.shape)) \n",
    "colsel_merged.drop_duplicates(inplace=True) \n",
    "print(\"SHAPE AFTER REMOVING DUPLICATES: \" + str(colsel_merged.shape)) \n",
    "colsel_merged['body'] = colsel_merged['body'].apply(lambda x: BeautifulSoup(str(x), \"lxml\").get_text())"
   ]
  },
  {
   "cell_type": "code",
   "execution_count": 9,
   "metadata": {
    "collapsed": false
   },
   "outputs": [],
   "source": [
    "def tagDocuments(text):\n",
    "    for i, line in enumerate(text):\n",
    "        if(i%1000 == 0):\n",
    "            print(\"> Iteration: \" + str(i))\n",
    "        yield gensim.models.doc2vec.TaggedDocument([w for w in gensim.utils.simple_preprocess(line) if not w in stopwords.words(\"italian\")], [i])"
   ]
  },
  {
   "cell_type": "code",
   "execution_count": 10,
   "metadata": {
    "collapsed": false
   },
   "outputs": [
    {
     "data": {
      "text/html": [
       "<div>\n",
       "<table border=\"1\" class=\"dataframe\">\n",
       "  <thead>\n",
       "    <tr style=\"text-align: right;\">\n",
       "      <th></th>\n",
       "      <th>identificativo</th>\n",
       "      <th>body</th>\n",
       "    </tr>\n",
       "  </thead>\n",
       "  <tbody>\n",
       "    <tr>\n",
       "      <th>0</th>\n",
       "      <td>FM20160429032ACC9MUHD</td>\n",
       "      <td>acea è pronta a giocare la sua partita sulla b...</td>\n",
       "    </tr>\n",
       "    <tr>\n",
       "      <th>1</th>\n",
       "      <td>FM20160501023ACLAzwID</td>\n",
       "      <td>l’unica certezza, per il momento, è che la pro...</td>\n",
       "    </tr>\n",
       "    <tr>\n",
       "      <th>2</th>\n",
       "      <td>FM20160503035ACaNSzJD</td>\n",
       "      <td>si potrebbe aspettare il mese di luglio per la...</td>\n",
       "    </tr>\n",
       "    <tr>\n",
       "      <th>3</th>\n",
       "      <td>FM20160503035ACDx00JD</td>\n",
       "      <td>un fondo chiuso per aiutare le piccole e medie...</td>\n",
       "    </tr>\n",
       "    <tr>\n",
       "      <th>4</th>\n",
       "      <td>FM20160428033ACi2kvGD</td>\n",
       "      <td>a volte le provocazioni sortiscono l’effetto s...</td>\n",
       "    </tr>\n",
       "  </tbody>\n",
       "</table>\n",
       "</div>"
      ],
      "text/plain": [
       "          identificativo                                               body\n",
       "0  FM20160429032ACC9MUHD  acea è pronta a giocare la sua partita sulla b...\n",
       "1  FM20160501023ACLAzwID  l’unica certezza, per il momento, è che la pro...\n",
       "2  FM20160503035ACaNSzJD  si potrebbe aspettare il mese di luglio per la...\n",
       "3  FM20160503035ACDx00JD  un fondo chiuso per aiutare le piccole e medie...\n",
       "4  FM20160428033ACi2kvGD  a volte le provocazioni sortiscono l’effetto s..."
      ]
     },
     "execution_count": 10,
     "metadata": {},
     "output_type": "execute_result"
    }
   ],
   "source": [
    "colsel_merged = colsel_merged.reset_index()\n",
    "colsel_merged = colsel_merged.drop('index', axis=1)\n",
    "colsel_merged.head()"
   ]
  },
  {
   "cell_type": "markdown",
   "metadata": {},
   "source": [
    "## Extract train data from dataframe into list:"
   ]
  },
  {
   "cell_type": "code",
   "execution_count": 11,
   "metadata": {
    "collapsed": false,
    "scrolled": true
   },
   "outputs": [
    {
     "name": "stdout",
     "output_type": "stream",
     "text": [
      "> START 2017-03-17 18:54:10.117164\n",
      "> Iteration: 0\n",
      "> Iteration: 1000\n",
      "> Iteration: 2000\n",
      "> Iteration: 3000\n",
      "> Iteration: 4000\n",
      "> Iteration: 5000\n",
      "> Iteration: 6000\n",
      "> Iteration: 7000\n",
      "> Iteration: 8000\n",
      "> Iteration: 9000\n",
      "> END 2017-03-17 19:00:33.957372\n"
     ]
    },
    {
     "data": {
      "text/plain": [
       "9283"
      ]
     },
     "execution_count": 11,
     "metadata": {},
     "output_type": "execute_result"
    }
   ],
   "source": [
    "print(\"> START %s\" % datetime.datetime.now())\n",
    "train_corpus = list(tagDocuments(colsel_merged['body'].tolist()))\n",
    "print(\"> END %s\" % str(datetime.datetime.now()))\n",
    "\n",
    "len(train_corpus)"
   ]
  },
  {
   "cell_type": "markdown",
   "metadata": {},
   "source": [
    "## Prepare model:"
   ]
  },
  {
   "cell_type": "code",
   "execution_count": 12,
   "metadata": {
    "collapsed": false
   },
   "outputs": [],
   "source": [
    "model = gensim.models.doc2vec.Doc2Vec(size=50, min_count=2, iter=55)"
   ]
  },
  {
   "cell_type": "code",
   "execution_count": 13,
   "metadata": {
    "collapsed": true
   },
   "outputs": [],
   "source": [
    "model_name = \"model_17_03_2017\"\n",
    "model.save(model_name)"
   ]
  },
  {
   "cell_type": "code",
   "execution_count": 14,
   "metadata": {
    "collapsed": false
   },
   "outputs": [],
   "source": [
    "model.build_vocab(train_corpus)"
   ]
  },
  {
   "cell_type": "code",
   "execution_count": 15,
   "metadata": {
    "collapsed": false
   },
   "outputs": [
    {
     "data": {
      "text/plain": [
       "8963"
      ]
     },
     "execution_count": 15,
     "metadata": {},
     "output_type": "execute_result"
    }
   ],
   "source": [
    "model.wv.vocab['gruppo'].count"
   ]
  },
  {
   "cell_type": "code",
   "execution_count": 16,
   "metadata": {
    "collapsed": false,
    "scrolled": true
   },
   "outputs": [
    {
     "data": {
      "image/png": "[encoded data removed]",
      "text/plain": [
       "<matplotlib.figure.Figure at 0x11af20550>"
      ]
     },
     "metadata": {},
     "output_type": "display_data"
    }
   ],
   "source": [
    "def wordcloud(dataframe):\n",
    "    wordcloud = WordCloud(background_color=\"white\", stopwords = stopwords.words(\"italian\")).generate(\" \".join([i for i in dataframe.str.upper()]))\n",
    "    plt.imshow(wordcloud)\n",
    "    fig_size = plt.rcParams[\"figure.figsize\"]\n",
    "    fig_size[0] = 12\n",
    "    fig_size[1] = 9\n",
    "    plt.figure\n",
    "    plt.axis(\"off\")\n",
    "    plt.title(\"plot\")\n",
    "    plt.show()\n",
    "\n",
    "wc = wordcloud(colsel_merged['body'])"
   ]
  },
  {
   "cell_type": "markdown",
   "metadata": {},
   "source": [
    "## Train model:"
   ]
  },
  {
   "cell_type": "code",
   "execution_count": 17,
   "metadata": {
    "collapsed": false,
    "scrolled": true
   },
   "outputs": [
    {
     "name": "stdout",
     "output_type": "stream",
     "text": [
      "CPU times: user 3min 13s, sys: 8.65 s, total: 3min 22s\n",
      "Wall time: 1min 24s\n"
     ]
    },
    {
     "data": {
      "text/plain": [
       "60747759"
      ]
     },
     "execution_count": 17,
     "metadata": {},
     "output_type": "execute_result"
    }
   ],
   "source": [
    "%time model.train(train_corpus)"
   ]
  },
  {
   "cell_type": "code",
   "execution_count": 18,
   "metadata": {
    "collapsed": false
   },
   "outputs": [
    {
     "data": {
      "text/plain": [
       "array([ 0.01004145, -0.15187779, -0.02223546, -0.00148282, -0.04490657,\n",
       "       -0.10112804,  0.09392265,  0.10975373,  0.03047684,  0.11340716,\n",
       "       -0.11952207, -0.06049586, -0.00311726,  0.11347844, -0.08986168,\n",
       "       -0.1917284 ,  0.08034015,  0.26883858,  0.03142837, -0.02369442,\n",
       "        0.0640521 ,  0.11921773, -0.192228  , -0.0096272 ,  0.01907221,\n",
       "       -0.08004381, -0.17762899,  0.29067996,  0.09071206, -0.14516667,\n",
       "        0.14344883,  0.14350422,  0.10500593, -0.0582342 ,  0.01291179,\n",
       "       -0.12044633, -0.11706378,  0.1247643 , -0.29041216,  0.06115874,\n",
       "       -0.01750867, -0.14435872, -0.06869747,  0.04706816,  0.11843711,\n",
       "       -0.21432014,  0.04397471,  0.1324078 ,  0.02473124,  0.39581126], dtype=float32)"
      ]
     },
     "execution_count": 18,
     "metadata": {},
     "output_type": "execute_result"
    }
   ],
   "source": [
    "model.infer_vector(['oggi', 'voglio', 'comprare', 'una', 'azione', 'di', 'mediaset'])"
   ]
  },
  {
   "cell_type": "code",
   "execution_count": 19,
   "metadata": {
    "collapsed": false
   },
   "outputs": [],
   "source": [
    "ranks = [] #per ogni documento l'indice che indica a che livello si trova nella lista dei simili a se stesso)\n",
    "\n",
    "second_ranks = []\n",
    "for doc_id in range(len(train_corpus)):\n",
    "    inferred_vector = model.infer_vector(train_corpus[doc_id].words)\n",
    "    sims = model.docvecs.most_similar([inferred_vector], topn=len(model.docvecs))\n",
    "    rank = [docid for docid, sim in sims].index(doc_id)\n",
    "    ranks.append(rank)\n",
    "    \n",
    "    second_ranks.append(sims[1])"
   ]
  },
  {
   "cell_type": "markdown",
   "metadata": {},
   "source": [
    "## Evaluate model (raw):"
   ]
  },
  {
   "cell_type": "code",
   "execution_count": 24,
   "metadata": {
    "collapsed": false
   },
   "outputs": [],
   "source": [
    "def score(listOfRanks):\n",
    "    correct = 0\n",
    "    for e in listOfRanks:\n",
    "        if(e >= 0 | e <= ):\n",
    "        #if( e == 0):\n",
    "            correct = correct + 1\n",
    "    return correct/len(listOfRanks)"
   ]
  },
  {
   "cell_type": "code",
   "execution_count": 25,
   "metadata": {
    "collapsed": false
   },
   "outputs": [
    {
     "data": {
      "text/plain": [
       "0.7102229882581063"
      ]
     },
     "execution_count": 25,
     "metadata": {},
     "output_type": "execute_result"
    }
   ],
   "source": [
    "score(ranks)"
   ]
  },
  {
   "cell_type": "markdown",
   "metadata": {},
   "source": [
    "### NOTE:\n",
    "\n",
    "#### ranks:\n",
    "    - num_elements = #num_docs\n",
    "    - per ogni documento ( in ordine) abbiamo l'indice che rappresenta dove trovare se stesso nella lista dei suoi simili\n",
    "    - particolarità: il documento 9282 è il 184 documento più simile a se stesso\n",
    "        \n",
    "#### second_ranks:\n",
    "    - num_elements = #num_docs\n",
    "    - per ogni domcumento ( in ordine) abbiamo il secondo documento più simile"
   ]
  },
  {
   "cell_type": "code",
   "execution_count": 22,
   "metadata": {
    "collapsed": false
   },
   "outputs": [
    {
     "name": "stdout",
     "output_type": "stream",
     "text": [
      "Document (9282): «toscana aeroporti apprende indiscrezioni stampa commissione valutazione impatto ambientale ministero ambiente espresso parere favorevole masterplan aeroporto amerigo vespucci firenze prevede altre cose realizzazione cosiddetta pista parallela nuovo terminal aeroportuale societa quotata mercato telematico azionario organizzato gestito borsa italiana riserva qualsiasi commento merito fino pubblicazione parere relative documentazioni parte ministeri interessati riferisce nota»\n",
      "\n",
      "SIMILAR/DISSIMILAR DOCS PER MODEL Doc2Vec(dm/m,d50,n5,w5,mc2,s0.001,t3):\n",
      "\n",
      "MOST (9282, 0.8461000919342041): «toscana aeroporti apprende indiscrezioni stampa commissione valutazione impatto ambientale ministero ambiente espresso parere favorevole masterplan aeroporto amerigo vespucci firenze prevede altre cose realizzazione cosiddetta pista parallela nuovo terminal aeroportuale societa quotata mercato telematico azionario organizzato gestito borsa italiana riserva qualsiasi commento merito fino pubblicazione parere relative documentazioni parte ministeri interessati riferisce nota»\n",
      "\n",
      "MEDIAN (5911, 0.4189627766609192): «hera prosegue impegno favore ambiente depurazione acque prevede investimenti dopo rimini multiutility annuncia adeguamento depuratore servola entra vivo giorni avvio lavori realizzazione terzo stralcio nuovo depuratore previsto giorni impianto servola mila abitanti equivalenti serviti sara intelligente grado cioe ascoltare mare regolare propria attivita base bisogni espressi adriatico importante risultato frutto collaborazione ultimi mesi fra acegasapsamga societa gruppo hera regione fvg amministrazione comunale provinciale autorita portuale consentito superare numerosi passaggi natura burocratica pervenire aggiudicazione lavori progetto prevede introduzione tecnologia innovativa consentira bilanciare intensita trattamento acque base stato adriatico»\n",
      "\n",
      "LEAST (48, 0.000841289758682251): «ginevra ferrari emetterà entro primo semestre quest anno bond entro contiamo azzerare debito ereditato dopo scorporo fiat chrysler detto ieri giornalisti sergio marchionne presidente ferrari amministratore delegato fca fine anno scorso ferrari debito netto parlando scandalo dieselgate dopo riunione associazione costruttori acea marchionne detto dobbiamo cercare capire diesel continuerà far parte portafoglio prodotti manager aggiunto interessi mercedes possono essere fiat produce panda cercare trovare minimo coesione sempre facile bisogna rendersi conto posizione industria tedesca auto pesa altri paesi marchionne poi riservato battuta gigante americano apple progetto potrebbe portarlo concorrenza diretta case voglia produrre auto consiglio do sedersi aspettare passi capacità produttiva sufficiente settore detto soddisfare esigenze apple senso associarsi produttore diventare protagonista diretto business così complesso marchionne detto passato essere pronto collaborare colossi silicon valley azienda iphone google»\n",
      "\n"
     ]
    }
   ],
   "source": [
    "print('Document ({}): «{}»\\n'.format(doc_id, ' '.join(train_corpus[doc_id].words)))\n",
    "print(u'SIMILAR/DISSIMILAR DOCS PER MODEL %s:\\n' % model)\n",
    "for label, index in [('MOST', 0), ('MEDIAN', len(sims)//2), ('LEAST', len(sims) - 1)]:\n",
    "    print(u'%s %s: «%s»\\n' % (label, sims[index], ' '.join(train_corpus[sims[index][0]].words)))"
   ]
  },
  {
   "cell_type": "code",
   "execution_count": 23,
   "metadata": {
    "collapsed": false
   },
   "outputs": [
    {
     "name": "stdout",
     "output_type": "stream",
     "text": [
      "Train Document (7649): «guidare crescita ricavi prysmian parita perimetro netto variazioni prezzo metalli cambi stato posizionamento gruppo business high tech maggior valore aggiunto cavi sistemi sottomarini cavi fibra ottica domanda conferma sostenuta positive performance business prodotti servizi estrazione petrolifera offshore stabili vendite cavi alta tensione terrestri livelli primo trimestre mentre registrano lievi segnali ripresa segmento trade installers cavi distribuzione energia cavi industriali positive performance progetti oil gas segmento elevators parziale contraltare debole andamento automotive alcuni segmenti cavi speciali societa sottolinea miglioramento marginalita registrato primi tre mesi anno rapporto fra ebitda rettificato ricavi salito primo trimestre contributo positivo arrivato impatto valute generato effetti positivi ebitda redditivita gruppo spiega societa continua beneficiare scelta strategica posizionamento business maggior valore aggiunto costante focalizzazione riduzione costi fissi efficienza footprint industriale ebitda ammontato rispetto primo trimestre includendo oneri netti ricorrenti riferibili costi saldo oneri finanziari netti risultato pari miglioramento rispetto corrispondente periodo precedente esercizio»\n",
      "\n",
      "Similar Document (6544, 0.824884831905365): «crescita adjusted segnata ricavi luxottica terzo trimestre pari cambi correnti superiore consensus analisti stime base rilevato bloomberg puntavano media incremento fatturato recenti studi credit suisse indicava kepler chevreux»\n",
      "\n"
     ]
    }
   ],
   "source": [
    "# Pick a random document from the test corpus and infer a vector from the model\n",
    "\n",
    "doc_id = random.randint(0, len(train_corpus))\n",
    "\n",
    "# Compare and print the most/median/least similar documents from the train corpus\n",
    "print('Train Document ({}): «{}»\\n'.format(doc_id, ' '.join(train_corpus[doc_id].words)))\n",
    "sim_id = second_ranks[doc_id]\n",
    "print('Similar Document {}: «{}»\\n'.format(sim_id, ' '.join(train_corpus[sim_id[0]].words)))"
   ]
  }
 ],
 "metadata": {
  "anaconda-cloud": {},
  "kernelspec": {
   "display_name": "Python 3",
   "language": "python",
   "name": "python3"
  },
  "language_info": {
   "codemirror_mode": {
    "name": "ipython",
    "version": 3
   },
   "file_extension": ".py",
   "mimetype": "text/x-python",
   "name": "python",
   "nbconvert_exporter": "python",
   "pygments_lexer": "ipython3",
   "version": "3.6.0"
  }
 },
 "nbformat": 4,
 "nbformat_minor": 2
}
